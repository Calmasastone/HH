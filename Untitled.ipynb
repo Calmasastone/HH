{
 "cells": [
  {
   "cell_type": "code",
   "execution_count": 1,
   "id": "4ed659c3",
   "metadata": {},
   "outputs": [],
   "source": [
    "# https://hh.ru/vacancy/72557581?from=vacancy_search_list&query=game%20analyst"
   ]
  },
  {
   "cell_type": "code",
   "execution_count": 2,
   "id": "49598980",
   "metadata": {},
   "outputs": [],
   "source": [
    "import pandas as pd"
   ]
  },
  {
   "cell_type": "code",
   "execution_count": 3,
   "id": "62d81b75",
   "metadata": {},
   "outputs": [],
   "source": [
    "# Сделал датафрейм Result = 0 (неэффективная реклама), 1 (эффетивная)\n",
    "df = pd.DataFrame({\n",
    "    'Profile': [1, 2, 3, 4, 5, 6, 7, 8, 9, 10],\n",
    "    'Initiator': ['Google', 'Yandex', 'Yahoo', 'VK', 'VK', 'Google','Google',\\\n",
    "                  'Yandex','Google', 'Yandex'],\n",
    "    'Result': [1, 0, 0, 1, 0, 1, 1, 0, 1, 1],\n",
    "    'TapCount': [5, 3, 2, 2, 9, 10, 5, 1, 7, 1 ]})"
   ]
  },
  {
   "cell_type": "code",
   "execution_count": 4,
   "id": "4b342338",
   "metadata": {},
   "outputs": [
    {
     "data": {
      "text/html": [
       "<div>\n",
       "<style scoped>\n",
       "    .dataframe tbody tr th:only-of-type {\n",
       "        vertical-align: middle;\n",
       "    }\n",
       "\n",
       "    .dataframe tbody tr th {\n",
       "        vertical-align: top;\n",
       "    }\n",
       "\n",
       "    .dataframe thead th {\n",
       "        text-align: right;\n",
       "    }\n",
       "</style>\n",
       "<table border=\"1\" class=\"dataframe\">\n",
       "  <thead>\n",
       "    <tr style=\"text-align: right;\">\n",
       "      <th></th>\n",
       "      <th>Profile</th>\n",
       "      <th>Initiator</th>\n",
       "      <th>Result</th>\n",
       "      <th>TapCount</th>\n",
       "    </tr>\n",
       "  </thead>\n",
       "  <tbody>\n",
       "    <tr>\n",
       "      <th>0</th>\n",
       "      <td>1</td>\n",
       "      <td>Google</td>\n",
       "      <td>1</td>\n",
       "      <td>5</td>\n",
       "    </tr>\n",
       "    <tr>\n",
       "      <th>1</th>\n",
       "      <td>2</td>\n",
       "      <td>Yandex</td>\n",
       "      <td>0</td>\n",
       "      <td>3</td>\n",
       "    </tr>\n",
       "    <tr>\n",
       "      <th>2</th>\n",
       "      <td>3</td>\n",
       "      <td>Yahoo</td>\n",
       "      <td>0</td>\n",
       "      <td>2</td>\n",
       "    </tr>\n",
       "    <tr>\n",
       "      <th>3</th>\n",
       "      <td>4</td>\n",
       "      <td>VK</td>\n",
       "      <td>1</td>\n",
       "      <td>2</td>\n",
       "    </tr>\n",
       "    <tr>\n",
       "      <th>4</th>\n",
       "      <td>5</td>\n",
       "      <td>VK</td>\n",
       "      <td>0</td>\n",
       "      <td>9</td>\n",
       "    </tr>\n",
       "    <tr>\n",
       "      <th>5</th>\n",
       "      <td>6</td>\n",
       "      <td>Google</td>\n",
       "      <td>1</td>\n",
       "      <td>10</td>\n",
       "    </tr>\n",
       "    <tr>\n",
       "      <th>6</th>\n",
       "      <td>7</td>\n",
       "      <td>Google</td>\n",
       "      <td>1</td>\n",
       "      <td>5</td>\n",
       "    </tr>\n",
       "    <tr>\n",
       "      <th>7</th>\n",
       "      <td>8</td>\n",
       "      <td>Yandex</td>\n",
       "      <td>0</td>\n",
       "      <td>1</td>\n",
       "    </tr>\n",
       "    <tr>\n",
       "      <th>8</th>\n",
       "      <td>9</td>\n",
       "      <td>Google</td>\n",
       "      <td>1</td>\n",
       "      <td>7</td>\n",
       "    </tr>\n",
       "    <tr>\n",
       "      <th>9</th>\n",
       "      <td>10</td>\n",
       "      <td>Yandex</td>\n",
       "      <td>1</td>\n",
       "      <td>1</td>\n",
       "    </tr>\n",
       "  </tbody>\n",
       "</table>\n",
       "</div>"
      ],
      "text/plain": [
       "   Profile Initiator  Result  TapCount\n",
       "0        1    Google       1         5\n",
       "1        2    Yandex       0         3\n",
       "2        3     Yahoo       0         2\n",
       "3        4        VK       1         2\n",
       "4        5        VK       0         9\n",
       "5        6    Google       1        10\n",
       "6        7    Google       1         5\n",
       "7        8    Yandex       0         1\n",
       "8        9    Google       1         7\n",
       "9       10    Yandex       1         1"
      ]
     },
     "execution_count": 4,
     "metadata": {},
     "output_type": "execute_result"
    }
   ],
   "source": [
    "df"
   ]
  },
  {
   "cell_type": "code",
   "execution_count": 5,
   "id": "c578334e",
   "metadata": {},
   "outputs": [],
   "source": [
    "users = df.groupby('Initiator')['Profile'].count().sort_values(ascending=False)"
   ]
  },
  {
   "cell_type": "code",
   "execution_count": 6,
   "id": "564932fe",
   "metadata": {},
   "outputs": [
    {
     "data": {
      "text/html": [
       "<div>\n",
       "<style scoped>\n",
       "    .dataframe tbody tr th:only-of-type {\n",
       "        vertical-align: middle;\n",
       "    }\n",
       "\n",
       "    .dataframe tbody tr th {\n",
       "        vertical-align: top;\n",
       "    }\n",
       "\n",
       "    .dataframe thead th {\n",
       "        text-align: right;\n",
       "    }\n",
       "</style>\n",
       "<table border=\"1\" class=\"dataframe\">\n",
       "  <thead>\n",
       "    <tr style=\"text-align: right;\">\n",
       "      <th></th>\n",
       "      <th>Profile</th>\n",
       "    </tr>\n",
       "    <tr>\n",
       "      <th>Initiator</th>\n",
       "      <th></th>\n",
       "    </tr>\n",
       "  </thead>\n",
       "  <tbody>\n",
       "    <tr>\n",
       "      <th>Google</th>\n",
       "      <td>4</td>\n",
       "    </tr>\n",
       "    <tr>\n",
       "      <th>Yandex</th>\n",
       "      <td>3</td>\n",
       "    </tr>\n",
       "    <tr>\n",
       "      <th>VK</th>\n",
       "      <td>2</td>\n",
       "    </tr>\n",
       "    <tr>\n",
       "      <th>Yahoo</th>\n",
       "      <td>1</td>\n",
       "    </tr>\n",
       "  </tbody>\n",
       "</table>\n",
       "</div>"
      ],
      "text/plain": [
       "           Profile\n",
       "Initiator         \n",
       "Google           4\n",
       "Yandex           3\n",
       "VK               2\n",
       "Yahoo            1"
      ]
     },
     "execution_count": 6,
     "metadata": {},
     "output_type": "execute_result"
    }
   ],
   "source": [
    "# Кол-во уникальных пользователей для каждого рекламного источника\n",
    "Unique_Users = pd.DataFrame(users)\n",
    "Unique_Users"
   ]
  },
  {
   "cell_type": "code",
   "execution_count": 7,
   "id": "15b9eab2",
   "metadata": {},
   "outputs": [],
   "source": [
    "# Успешная реклама\n",
    "Successfull_Ad = df.groupby('Initiator')['Result'].sum().sort_values(ascending=False)"
   ]
  },
  {
   "cell_type": "code",
   "execution_count": 8,
   "id": "2a9b887a",
   "metadata": {},
   "outputs": [],
   "source": [
    "# Всего рекламы\n",
    "Total_Ad = df.groupby('Initiator')['Profile'].count().sort_values(ascending=False)"
   ]
  },
  {
   "cell_type": "code",
   "execution_count": 9,
   "id": "c95b5d20",
   "metadata": {},
   "outputs": [],
   "source": [
    "S_Ad = pd.DataFrame(Successfull_Ad)"
   ]
  },
  {
   "cell_type": "code",
   "execution_count": 10,
   "id": "4b3ac32a",
   "metadata": {},
   "outputs": [],
   "source": [
    "T_Ad = pd.DataFrame(Total_Ad)"
   ]
  },
  {
   "cell_type": "code",
   "execution_count": 11,
   "id": "bc2723bf",
   "metadata": {},
   "outputs": [],
   "source": [
    "# Объединяем 2 таблчики\n",
    "United_Ad = S_Ad.merge(T_Ad, on='Initiator', how='inner')"
   ]
  },
  {
   "cell_type": "code",
   "execution_count": 12,
   "id": "93609771",
   "metadata": {},
   "outputs": [],
   "source": [
    "# Переименовываем, чтобы было понятнее\n",
    "United_Ad = United_Ad.rename(columns={\n",
    "    'Result': 'Success',\n",
    "    'Profile': 'Total',\n",
    "})"
   ]
  },
  {
   "cell_type": "code",
   "execution_count": 13,
   "id": "47112b6b",
   "metadata": {},
   "outputs": [],
   "source": [
    "United_Ad['Successful'] = round(United_Ad['Success']/United_Ad['Total'],1)*100"
   ]
  },
  {
   "cell_type": "code",
   "execution_count": 14,
   "id": "0534ab30",
   "metadata": {},
   "outputs": [],
   "source": [
    "United_Ad['UnSuccessful'] = round((United_Ad['Total']-United_Ad['Success'])/United_Ad['Total'],1)*100"
   ]
  },
  {
   "cell_type": "code",
   "execution_count": 15,
   "id": "78a5d7e3",
   "metadata": {},
   "outputs": [
    {
     "data": {
      "text/html": [
       "<div>\n",
       "<style scoped>\n",
       "    .dataframe tbody tr th:only-of-type {\n",
       "        vertical-align: middle;\n",
       "    }\n",
       "\n",
       "    .dataframe tbody tr th {\n",
       "        vertical-align: top;\n",
       "    }\n",
       "\n",
       "    .dataframe thead th {\n",
       "        text-align: right;\n",
       "    }\n",
       "</style>\n",
       "<table border=\"1\" class=\"dataframe\">\n",
       "  <thead>\n",
       "    <tr style=\"text-align: right;\">\n",
       "      <th></th>\n",
       "      <th>Successful</th>\n",
       "      <th>UnSuccessful</th>\n",
       "    </tr>\n",
       "    <tr>\n",
       "      <th>Initiator</th>\n",
       "      <th></th>\n",
       "      <th></th>\n",
       "    </tr>\n",
       "  </thead>\n",
       "  <tbody>\n",
       "    <tr>\n",
       "      <th>Google</th>\n",
       "      <td>100.0</td>\n",
       "      <td>0.0</td>\n",
       "    </tr>\n",
       "    <tr>\n",
       "      <th>VK</th>\n",
       "      <td>50.0</td>\n",
       "      <td>50.0</td>\n",
       "    </tr>\n",
       "    <tr>\n",
       "      <th>Yandex</th>\n",
       "      <td>30.0</td>\n",
       "      <td>70.0</td>\n",
       "    </tr>\n",
       "    <tr>\n",
       "      <th>Yahoo</th>\n",
       "      <td>0.0</td>\n",
       "      <td>100.0</td>\n",
       "    </tr>\n",
       "  </tbody>\n",
       "</table>\n",
       "</div>"
      ],
      "text/plain": [
       "           Successful  UnSuccessful\n",
       "Initiator                          \n",
       "Google          100.0           0.0\n",
       "VK               50.0          50.0\n",
       "Yandex           30.0          70.0\n",
       "Yahoo             0.0         100.0"
      ]
     },
     "execution_count": 15,
     "metadata": {},
     "output_type": "execute_result"
    }
   ],
   "source": [
    "# Эффективность рекламы в процентах\n",
    "Ad_Efficiency = United_Ad[['Successful', 'UnSuccessful']]\n",
    "Ad_Efficiency"
   ]
  },
  {
   "cell_type": "code",
   "execution_count": 16,
   "id": "3a9323bf",
   "metadata": {},
   "outputs": [],
   "source": [
    "Ad_Efficiency.to_excel('HH.xlsx')"
   ]
  }
 ],
 "metadata": {
  "kernelspec": {
   "display_name": "Python 3 (ipykernel)",
   "language": "python",
   "name": "python3"
  },
  "language_info": {
   "codemirror_mode": {
    "name": "ipython",
    "version": 3
   },
   "file_extension": ".py",
   "mimetype": "text/x-python",
   "name": "python",
   "nbconvert_exporter": "python",
   "pygments_lexer": "ipython3",
   "version": "3.9.13"
  }
 },
 "nbformat": 4,
 "nbformat_minor": 5
}
